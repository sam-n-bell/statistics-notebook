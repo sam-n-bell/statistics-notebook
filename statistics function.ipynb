{
 "cells": [
  {
   "cell_type": "code",
   "execution_count": 87,
   "metadata": {},
   "outputs": [],
   "source": [
    "import pandas as pd\n",
    "import math\n",
    "import matplotlib.pyplot as plot"
   ]
  },
  {
   "cell_type": "code",
   "execution_count": 3,
   "metadata": {},
   "outputs": [
    {
     "data": {
      "text/html": [
       "<div>\n",
       "<style scoped>\n",
       "    .dataframe tbody tr th:only-of-type {\n",
       "        vertical-align: middle;\n",
       "    }\n",
       "\n",
       "    .dataframe tbody tr th {\n",
       "        vertical-align: top;\n",
       "    }\n",
       "\n",
       "    .dataframe thead th {\n",
       "        text-align: right;\n",
       "    }\n",
       "</style>\n",
       "<table border=\"1\" class=\"dataframe\">\n",
       "  <thead>\n",
       "    <tr style=\"text-align: right;\">\n",
       "      <th></th>\n",
       "      <th>activity_day_id</th>\n",
       "      <th>activity_date</th>\n",
       "      <th>move_calories</th>\n",
       "      <th>exercise_minutes</th>\n",
       "      <th>stand_hours</th>\n",
       "      <th>date_added</th>\n",
       "      <th>medals</th>\n",
       "    </tr>\n",
       "  </thead>\n",
       "  <tbody>\n",
       "    <tr>\n",
       "      <th>0</th>\n",
       "      <td>fa7e35be-cf4e-4060-8672-eb9ff8b430f5</td>\n",
       "      <td>2018-11-29</td>\n",
       "      <td>637</td>\n",
       "      <td>36</td>\n",
       "      <td>15</td>\n",
       "      <td>2019-05-07 19:12:05.533</td>\n",
       "      <td>NaN</td>\n",
       "    </tr>\n",
       "    <tr>\n",
       "      <th>1</th>\n",
       "      <td>a20a8c88-d464-487c-b61d-2634df76cd15</td>\n",
       "      <td>2018-11-30</td>\n",
       "      <td>771</td>\n",
       "      <td>57</td>\n",
       "      <td>10</td>\n",
       "      <td>2019-05-07 19:13:40.547</td>\n",
       "      <td>NaN</td>\n",
       "    </tr>\n",
       "    <tr>\n",
       "      <th>2</th>\n",
       "      <td>c7c03dc0-4029-43e6-93fa-a4f275997fbd</td>\n",
       "      <td>2018-12-01</td>\n",
       "      <td>578</td>\n",
       "      <td>70</td>\n",
       "      <td>11</td>\n",
       "      <td>2019-05-07 19:18:45.299</td>\n",
       "      <td>NaN</td>\n",
       "    </tr>\n",
       "    <tr>\n",
       "      <th>3</th>\n",
       "      <td>055a52c5-fbec-4537-a5e9-fce5b0ab9ba1</td>\n",
       "      <td>2018-12-02</td>\n",
       "      <td>371</td>\n",
       "      <td>12</td>\n",
       "      <td>13</td>\n",
       "      <td>2019-05-07 19:18:45.299</td>\n",
       "      <td>NaN</td>\n",
       "    </tr>\n",
       "    <tr>\n",
       "      <th>4</th>\n",
       "      <td>eab6ce27-1b43-4738-b1c6-212163ffadf9</td>\n",
       "      <td>2018-12-04</td>\n",
       "      <td>211</td>\n",
       "      <td>0</td>\n",
       "      <td>5</td>\n",
       "      <td>2019-05-07 19:18:45.299</td>\n",
       "      <td>NaN</td>\n",
       "    </tr>\n",
       "  </tbody>\n",
       "</table>\n",
       "</div>"
      ],
      "text/plain": [
       "                        activity_day_id activity_date  move_calories  \\\n",
       "0  fa7e35be-cf4e-4060-8672-eb9ff8b430f5    2018-11-29            637   \n",
       "1  a20a8c88-d464-487c-b61d-2634df76cd15    2018-11-30            771   \n",
       "2  c7c03dc0-4029-43e6-93fa-a4f275997fbd    2018-12-01            578   \n",
       "3  055a52c5-fbec-4537-a5e9-fce5b0ab9ba1    2018-12-02            371   \n",
       "4  eab6ce27-1b43-4738-b1c6-212163ffadf9    2018-12-04            211   \n",
       "\n",
       "   exercise_minutes  stand_hours              date_added  medals  \n",
       "0                36           15 2019-05-07 19:12:05.533     NaN  \n",
       "1                57           10 2019-05-07 19:13:40.547     NaN  \n",
       "2                70           11 2019-05-07 19:18:45.299     NaN  \n",
       "3                12           13 2019-05-07 19:18:45.299     NaN  \n",
       "4                 0            5 2019-05-07 19:18:45.299     NaN  "
      ]
     },
     "execution_count": 3,
     "metadata": {},
     "output_type": "execute_result"
    }
   ],
   "source": [
    "df = pd.read_excel(\"exercise_data.xlsx\")\n",
    "df.head()"
   ]
  },
  {
   "cell_type": "code",
   "execution_count": 6,
   "metadata": {},
   "outputs": [
    {
     "data": {
      "text/html": [
       "<div>\n",
       "<style scoped>\n",
       "    .dataframe tbody tr th:only-of-type {\n",
       "        vertical-align: middle;\n",
       "    }\n",
       "\n",
       "    .dataframe tbody tr th {\n",
       "        vertical-align: top;\n",
       "    }\n",
       "\n",
       "    .dataframe thead th {\n",
       "        text-align: right;\n",
       "    }\n",
       "</style>\n",
       "<table border=\"1\" class=\"dataframe\">\n",
       "  <thead>\n",
       "    <tr style=\"text-align: right;\">\n",
       "      <th></th>\n",
       "      <th>move_calories</th>\n",
       "      <th>exercise_minutes</th>\n",
       "      <th>stand_hours</th>\n",
       "      <th>medals</th>\n",
       "    </tr>\n",
       "  </thead>\n",
       "  <tbody>\n",
       "    <tr>\n",
       "      <th>count</th>\n",
       "      <td>179.000000</td>\n",
       "      <td>179.000000</td>\n",
       "      <td>179.000000</td>\n",
       "      <td>0.0</td>\n",
       "    </tr>\n",
       "    <tr>\n",
       "      <th>mean</th>\n",
       "      <td>702.122905</td>\n",
       "      <td>44.145251</td>\n",
       "      <td>9.921788</td>\n",
       "      <td>NaN</td>\n",
       "    </tr>\n",
       "    <tr>\n",
       "      <th>std</th>\n",
       "      <td>380.186451</td>\n",
       "      <td>34.872176</td>\n",
       "      <td>4.594149</td>\n",
       "      <td>NaN</td>\n",
       "    </tr>\n",
       "    <tr>\n",
       "      <th>min</th>\n",
       "      <td>0.000000</td>\n",
       "      <td>0.000000</td>\n",
       "      <td>0.000000</td>\n",
       "      <td>NaN</td>\n",
       "    </tr>\n",
       "    <tr>\n",
       "      <th>25%</th>\n",
       "      <td>371.000000</td>\n",
       "      <td>6.000000</td>\n",
       "      <td>7.500000</td>\n",
       "      <td>NaN</td>\n",
       "    </tr>\n",
       "    <tr>\n",
       "      <th>50%</th>\n",
       "      <td>758.000000</td>\n",
       "      <td>58.000000</td>\n",
       "      <td>11.000000</td>\n",
       "      <td>NaN</td>\n",
       "    </tr>\n",
       "    <tr>\n",
       "      <th>75%</th>\n",
       "      <td>1006.000000</td>\n",
       "      <td>64.000000</td>\n",
       "      <td>13.000000</td>\n",
       "      <td>NaN</td>\n",
       "    </tr>\n",
       "    <tr>\n",
       "      <th>max</th>\n",
       "      <td>1491.000000</td>\n",
       "      <td>203.000000</td>\n",
       "      <td>18.000000</td>\n",
       "      <td>NaN</td>\n",
       "    </tr>\n",
       "  </tbody>\n",
       "</table>\n",
       "</div>"
      ],
      "text/plain": [
       "       move_calories  exercise_minutes  stand_hours  medals\n",
       "count     179.000000        179.000000   179.000000     0.0\n",
       "mean      702.122905         44.145251     9.921788     NaN\n",
       "std       380.186451         34.872176     4.594149     NaN\n",
       "min         0.000000          0.000000     0.000000     NaN\n",
       "25%       371.000000          6.000000     7.500000     NaN\n",
       "50%       758.000000         58.000000    11.000000     NaN\n",
       "75%      1006.000000         64.000000    13.000000     NaN\n",
       "max      1491.000000        203.000000    18.000000     NaN"
      ]
     },
     "execution_count": 6,
     "metadata": {},
     "output_type": "execute_result"
    }
   ],
   "source": [
    "\"\"\"\n",
    "For validating functions I write\n",
    "\"\"\"\n",
    "df.describe()"
   ]
  },
  {
   "cell_type": "code",
   "execution_count": 128,
   "metadata": {},
   "outputs": [],
   "source": [
    "def calculate_mean(dataset, sample=True):\n",
    "    return sum(dataset) / len(dataset)\n",
    "    "
   ]
  },
  {
   "cell_type": "code",
   "execution_count": 129,
   "metadata": {},
   "outputs": [
    {
     "name": "stdout",
     "output_type": "stream",
     "text": [
      "702.1229050279329\n",
      "702.1229050279329\n"
     ]
    }
   ],
   "source": [
    "print(calculate_mean(df.move_calories, False))\n",
    "print(calculate_mean(df.move_calories, True))"
   ]
  },
  {
   "cell_type": "code",
   "execution_count": 130,
   "metadata": {},
   "outputs": [],
   "source": [
    "def calculate_variance(dataset, sample=True):\n",
    "    \"\"\"\n",
    "    Spread of the dataset relative to its mean\n",
    "    \"\"\"\n",
    "    mean = calculate_mean(dataset, sample)\n",
    "    differences_squares = [(x - mean)**2 for x in dataset]\n",
    "    sum_differences = sum(differences_squares)\n",
    "    if sample:\n",
    "        return sum_differences / (len(dataset) - 1)\n",
    "    else:\n",
    "        return sum_differences / len(dataset)\n"
   ]
  },
  {
   "cell_type": "code",
   "execution_count": 67,
   "metadata": {},
   "outputs": [
    {
     "name": "stdout",
     "output_type": "stream",
     "text": [
      "143735.2418775943\n",
      "144542.74323645717\n"
     ]
    }
   ],
   "source": [
    "print(calculate_variance(df.move_calories, False))\n",
    "print(calculate_variance(df.move_calories, True))"
   ]
  },
  {
   "cell_type": "code",
   "execution_count": 133,
   "metadata": {},
   "outputs": [],
   "source": [
    "def calculate_std(dataset, sample=True):\n",
    "    \"\"\"\n",
    "    Makes variance more realistic and easier to read\n",
    "    \"\"\"\n",
    "    var = calculate_variance(dataset, sample)\n",
    "    return math.sqrt(var)"
   ]
  },
  {
   "cell_type": "code",
   "execution_count": 69,
   "metadata": {},
   "outputs": [
    {
     "name": "stdout",
     "output_type": "stream",
     "text": [
      "379.12430926754655\n",
      "380.1877736546208\n"
     ]
    }
   ],
   "source": [
    "print(calculate_std(df.move_calories, False))\n",
    "print(calculate_std(df.move_calories, True))"
   ]
  },
  {
   "cell_type": "code",
   "execution_count": 54,
   "metadata": {},
   "outputs": [],
   "source": [
    "def calculate_coeff_of_variation(dataset, sample=True):\n",
    "    mean = calculate_mean(dataset, sample)\n",
    "    std = calculate_std(dataset, sample)\n",
    "    return mean / std"
   ]
  },
  {
   "cell_type": "code",
   "execution_count": 55,
   "metadata": {},
   "outputs": [
    {
     "name": "stdout",
     "output_type": "stream",
     "text": [
      "1.8519660446319934\n",
      "1.8441490063929926\n"
     ]
    }
   ],
   "source": [
    "print(calculate_coeff_of_variation(df.move_calories, False))\n",
    "print(calculate_coeff_of_variation(df.move_calories, True))"
   ]
  },
  {
   "cell_type": "code",
   "execution_count": 76,
   "metadata": {},
   "outputs": [],
   "source": [
    "def calculate_covariance(columnx, columny, sample=True):\n",
    "    \"\"\"\n",
    "    Gives a sense of which direction the variables are moving\n",
    "    in relation to each other\n",
    "    > 0 if same direction\n",
    "    < 0 if opposite direction\n",
    "    = 0 if data is independent of each other\n",
    "    \"\"\"\n",
    "    meanx = calculate_mean(columnx, sample)\n",
    "    meany = calculate_mean(columny, sample)\n",
    "    x_diffs = [(x - meanx) for x in columnx]\n",
    "    y_diffs = [(y - meany) for y in columny]\n",
    "    diffs_multiplied = 0\n",
    "    for x in range(len(x_diffs)):\n",
    "        diffs_multiplied += (x_diffs[x] * y_diffs[x])\n",
    "    if sample:\n",
    "        return diffs_multiplied / (len(columny) - 1)\n",
    "    else:\n",
    "        return diffs_multiplied / (len(columny))"
   ]
  },
  {
   "cell_type": "code",
   "execution_count": 82,
   "metadata": {},
   "outputs": [
    {
     "name": "stdout",
     "output_type": "stream",
     "text": [
      "11875.886541962213\n",
      "11809.540807090916\n"
     ]
    }
   ],
   "source": [
    "print(calculate_covariance(df.move_calories, df.exercise_minutes, True))\n",
    "print(calculate_covariance(df.move_calories, df.exercise_minutes, False))"
   ]
  },
  {
   "cell_type": "code",
   "execution_count": 84,
   "metadata": {},
   "outputs": [],
   "source": [
    "def calculate_correlation_coefficient(columnx, columny, sample=True):\n",
    "    \"\"\"\n",
    "    Adjusts covariance so the relationship between them is easier to understand\n",
    "    \"\"\"\n",
    "    cov = calculate_covariance(columnx, columny, sample)\n",
    "    stdx = calculate_std(columnx, sample)\n",
    "    stdy = calculate_std(columny, sample)\n",
    "    return cov / (stdx * stdy)"
   ]
  },
  {
   "cell_type": "code",
   "execution_count": 85,
   "metadata": {},
   "outputs": [
    {
     "name": "stdout",
     "output_type": "stream",
     "text": [
      "0.08216176250740222\n",
      "0.08216176250740222\n"
     ]
    }
   ],
   "source": [
    "print(calculate_correlation_coefficient(df.move_calories, df.exercise_minutes, True))\n",
    "print(calculate_correlation_coefficient(df.move_calories, df.exercise_minutes, False))"
   ]
  },
  {
   "cell_type": "markdown",
   "metadata": {},
   "source": [
    " # Distribution\n",
    " Function that shows the possible values for a variable and how often they occur\n",
    " \n",
    " When sum of all values equals 1 or 100%, you have found them all."
   ]
  },
  {
   "cell_type": "markdown",
   "metadata": {},
   "source": [
    "## Normal distribution\n",
    "Has the same mean, median, mode. Has no skewness.\n",
    "Distribution graph is a bell curve\n",
    "origin is the 0 point\n",
    "Higher standard deviant will flatten the graph out. Inverse for the lower standard deviations"
   ]
  },
  {
   "cell_type": "markdown",
   "metadata": {},
   "source": [
    "## Standardization\n",
    "Transforming variables to have a mean of zero and a standard deviation of one.\n",
    "\n",
    "(x - mean) / standard deviantion\n",
    "where X is the original variable\n",
    "\n",
    "Z-score (standard normal distribution) ^"
   ]
  },
  {
   "cell_type": "code",
   "execution_count": 138,
   "metadata": {},
   "outputs": [],
   "source": [
    "def calculate_zscore(x, mean, std):\n",
    "    return (x - mean) / std"
   ]
  },
  {
   "cell_type": "code",
   "execution_count": 180,
   "metadata": {},
   "outputs": [],
   "source": [
    "def shift_dataset_to_normal(dataset):\n",
    "    mean = calculate_mean(dataset)\n",
    "    std = calculate_std(dataset)\n",
    "    print('1: mean {} ,std {}'.format(mean, std))\n",
    "    print('Finding difference between each x value and {}'.format(mean))\n",
    "    differences = [round(x - mean) for x in dataset]\n",
    "    mean2 = calculate_mean(differences)\n",
    "    std2 = calculate_std(differences)\n",
    "    print('2: mean {}, std {}, x - mean is = {}'.format(mean2, std2, differences))\n",
    "    zscores = [(round(diff / std2)) for diff in differences]\n",
    "    print('After dividing all differences by {}, we get (rounded) {}'.format(std2, sum(zscores)))\n",
    "    \"\"\"\n",
    "    Adding/Subtracting values from all values does not change the std\n",
    "    \"\"\"\n"
   ]
  },
  {
   "cell_type": "code",
   "execution_count": 181,
   "metadata": {},
   "outputs": [
    {
     "name": "stdout",
     "output_type": "stream",
     "text": [
      "1: mean 3.0 ,std 1.224744871391589\n",
      "Finding difference between each x value and 3.0\n",
      "2: mean 0.0, std 1.224744871391589, x - mean is = [-2, -1, -1, 0, 0, 0, 1, 1, 2]\n",
      "After dividing all differences by 1.224744871391589, we get (rounded) 0\n"
     ]
    },
    {
     "data": {
      "text/plain": [
       "'\\nShow the data moving towards a normal distribution\\n'"
      ]
     },
     "execution_count": 181,
     "metadata": {},
     "output_type": "execute_result"
    }
   ],
   "source": [
    "shift_dataset_to_normal([1,2,2,3,3,3,4,4,5])\n",
    "\"\"\"\n",
    "Show the data moving towards a normal distribution\n",
    "\"\"\""
   ]
  },
  {
   "cell_type": "markdown",
   "metadata": {},
   "source": [
    "## Sampling Distribution\n",
    "Distribution formed by a collection of sample values (ie, mean values).\n",
    "## Central Limit Theorm\n",
    "Sampling distribution of the mean will show a normal distribution.\n",
    "It's mean is the same as the population mean.\n",
    "Variance is the population variance divided by sample size\n",
    "## Standard Error\n",
    "Standard deviation of the sampling distribution (of the sample means)"
   ]
  },
  {
   "cell_type": "code",
   "execution_count": 193,
   "metadata": {},
   "outputs": [],
   "source": [
    "def calculate_mean_standard_error(dataset, sample=True):\n",
    "    \"\"\"\n",
    "    Shows variability of samples means / dataset should be a list of means from samples\n",
    "    \"\"\"\n",
    "    std = calculate_std(dataset, sample=False)\n",
    "    return std / math.sqrt(len(dataset))"
   ]
  },
  {
   "cell_type": "code",
   "execution_count": 194,
   "metadata": {},
   "outputs": [
    {
     "data": {
      "text/plain": [
       "58.64946717575532"
      ]
     },
     "execution_count": 194,
     "metadata": {},
     "output_type": "execute_result"
    }
   ],
   "source": [
    "calculate_mean_standard_error([calculate_mean(df.move_calories[10:12]), calculate_mean(df.move_calories[:5]), calculate_mean(df.move_calories[5:8])])"
   ]
  },
  {
   "cell_type": "markdown",
   "metadata": {},
   "source": [
    "## Point Estimates\n",
    "Single number. Located in the middle of the confidence interval.\n",
    "\n",
    "## Confidence Intervals\n",
    "Interval"
   ]
  },
  {
   "cell_type": "code",
   "execution_count": null,
   "metadata": {},
   "outputs": [],
   "source": []
  }
 ],
 "metadata": {
  "kernelspec": {
   "display_name": "Python 3",
   "language": "python",
   "name": "python3"
  },
  "language_info": {
   "codemirror_mode": {
    "name": "ipython",
    "version": 3
   },
   "file_extension": ".py",
   "mimetype": "text/x-python",
   "name": "python",
   "nbconvert_exporter": "python",
   "pygments_lexer": "ipython3",
   "version": "3.7.3"
  }
 },
 "nbformat": 4,
 "nbformat_minor": 2
}
